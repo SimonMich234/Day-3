{
 "cells": [
  {
   "cell_type": "code",
   "execution_count": 1,
   "id": "73820a56",
   "metadata": {},
   "outputs": [],
   "source": [
    "import pandas as pd\n",
    "import numpy as np"
   ]
  },
  {
   "cell_type": "code",
   "execution_count": 2,
   "id": "5c7a27c2",
   "metadata": {},
   "outputs": [
    {
     "name": "stdout",
     "output_type": "stream",
     "text": [
      "[-0.95287002 -0.31017904 -0.16388791 -1.16626795  0.4838592  -2.48294988\n",
      " -0.03682451  0.01689933 -0.87285666  0.54222053  0.5739744   0.58355459\n",
      "  1.67318628  0.58527652 -1.22402798 -0.00712218  0.61459254 -0.49050264\n",
      " -0.80870316  1.42839393 -0.90075025 -1.15675184 -0.46075657 -1.62653464\n",
      " -0.03457586 -0.95736331 -0.58720792 -0.4100664  -0.83175729  0.50493932\n",
      "  0.68824796  0.72565948  0.24013893 -0.08347208  0.98013394 -0.48122924\n",
      "  0.72348926 -0.70970355 -0.43954951 -0.23132649 -0.26021082 -0.55050514\n",
      " -1.02877873  0.25759372 -0.85499587 -0.68386414  0.63375366 -0.91864783\n",
      " -1.10047304 -0.40817123  1.19004241 -0.91306951  0.52107693  0.44632181\n",
      " -0.76166844 -0.04302331  0.09966393 -0.37004956 -0.20678575  1.21216748\n",
      " -0.29142795 -0.80132783 -2.18057496 -0.71071154  0.50901623  1.36223904\n",
      "  0.74552402  1.67739743 -0.71162763 -0.24442575  0.10529762 -0.03207283\n",
      "  0.56710227 -1.19423528  0.55011825  0.3748601   0.6465047   1.83790918\n",
      " -0.76431536  0.34915428  2.24734995 -1.29908116 -0.74480129  0.46629043\n",
      "  0.14023887  0.96451922  0.60031563  0.20904952 -1.0498575   1.26206166\n",
      "  1.01715189  1.3049064   0.22292773  1.4425522  -1.6935757  -0.33243077\n",
      " -0.69067044 -1.00343978  1.01765422  0.56348334]\n"
     ]
    }
   ],
   "source": [
    "x = np.random.normal(size=100)\n",
    "\n",
    "print(x)\n"
   ]
  },
  {
   "cell_type": "code",
   "execution_count": 3,
   "id": "5faf2d4a",
   "metadata": {},
   "outputs": [],
   "source": [
    "df = pd.DataFrame(x)"
   ]
  },
  {
   "cell_type": "code",
   "execution_count": 4,
   "id": "b364006a",
   "metadata": {},
   "outputs": [
    {
     "data": {
      "text/html": [
       "<div>\n",
       "<style scoped>\n",
       "    .dataframe tbody tr th:only-of-type {\n",
       "        vertical-align: middle;\n",
       "    }\n",
       "\n",
       "    .dataframe tbody tr th {\n",
       "        vertical-align: top;\n",
       "    }\n",
       "\n",
       "    .dataframe thead th {\n",
       "        text-align: right;\n",
       "    }\n",
       "</style>\n",
       "<table border=\"1\" class=\"dataframe\">\n",
       "  <thead>\n",
       "    <tr style=\"text-align: right;\">\n",
       "      <th></th>\n",
       "      <th>0</th>\n",
       "    </tr>\n",
       "  </thead>\n",
       "  <tbody>\n",
       "    <tr>\n",
       "      <th>0</th>\n",
       "      <td>-0.952870</td>\n",
       "    </tr>\n",
       "    <tr>\n",
       "      <th>1</th>\n",
       "      <td>-0.310179</td>\n",
       "    </tr>\n",
       "    <tr>\n",
       "      <th>2</th>\n",
       "      <td>-0.163888</td>\n",
       "    </tr>\n",
       "    <tr>\n",
       "      <th>3</th>\n",
       "      <td>-1.166268</td>\n",
       "    </tr>\n",
       "    <tr>\n",
       "      <th>4</th>\n",
       "      <td>0.483859</td>\n",
       "    </tr>\n",
       "    <tr>\n",
       "      <th>...</th>\n",
       "      <td>...</td>\n",
       "    </tr>\n",
       "    <tr>\n",
       "      <th>95</th>\n",
       "      <td>-0.332431</td>\n",
       "    </tr>\n",
       "    <tr>\n",
       "      <th>96</th>\n",
       "      <td>-0.690670</td>\n",
       "    </tr>\n",
       "    <tr>\n",
       "      <th>97</th>\n",
       "      <td>-1.003440</td>\n",
       "    </tr>\n",
       "    <tr>\n",
       "      <th>98</th>\n",
       "      <td>1.017654</td>\n",
       "    </tr>\n",
       "    <tr>\n",
       "      <th>99</th>\n",
       "      <td>0.563483</td>\n",
       "    </tr>\n",
       "  </tbody>\n",
       "</table>\n",
       "<p>100 rows × 1 columns</p>\n",
       "</div>"
      ],
      "text/plain": [
       "           0\n",
       "0  -0.952870\n",
       "1  -0.310179\n",
       "2  -0.163888\n",
       "3  -1.166268\n",
       "4   0.483859\n",
       "..       ...\n",
       "95 -0.332431\n",
       "96 -0.690670\n",
       "97 -1.003440\n",
       "98  1.017654\n",
       "99  0.563483\n",
       "\n",
       "[100 rows x 1 columns]"
      ]
     },
     "execution_count": 4,
     "metadata": {},
     "output_type": "execute_result"
    }
   ],
   "source": [
    "df"
   ]
  },
  {
   "cell_type": "code",
   "execution_count": 5,
   "id": "188b6036",
   "metadata": {},
   "outputs": [],
   "source": [
    "compression_opts = dict(method='zip',\n",
    "                        archive_name='out.csv')  \n",
    "df.to_csv('out.zip', index=False,\n",
    "          compression=compression_opts)  "
   ]
  },
  {
   "cell_type": "code",
   "execution_count": 6,
   "id": "91183969",
   "metadata": {},
   "outputs": [],
   "source": [
    "from pathlib import Path  \n",
    "filepath = Path('folder/subfolder/out.csv')  \n",
    "filepath.parent.mkdir(parents=True, exist_ok=True)  \n",
    "df.to_csv(filepath) "
   ]
  },
  {
   "cell_type": "code",
   "execution_count": 7,
   "id": "51c86688",
   "metadata": {},
   "outputs": [],
   "source": [
    "import os  \n",
    "os.makedirs('folder/subfolder', exist_ok=True)  \n",
    "df.to_csv('folder/subfolder/out.csv')  "
   ]
  },
  {
   "cell_type": "code",
   "execution_count": 9,
   "id": "c685c454",
   "metadata": {},
   "outputs": [],
   "source": [
    "data = pd.read_csv('out.csv')"
   ]
  },
  {
   "cell_type": "code",
   "execution_count": 10,
   "id": "e7ee1a87",
   "metadata": {},
   "outputs": [
    {
     "data": {
      "text/plain": [
       "0   -0.043632\n",
       "dtype: float64"
      ]
     },
     "execution_count": 10,
     "metadata": {},
     "output_type": "execute_result"
    }
   ],
   "source": [
    "data.mean()"
   ]
  },
  {
   "cell_type": "code",
   "execution_count": 12,
   "id": "9907f756",
   "metadata": {},
   "outputs": [
    {
     "data": {
      "text/plain": [
       "0    0.812738\n",
       "dtype: float64"
      ]
     },
     "execution_count": 12,
     "metadata": {},
     "output_type": "execute_result"
    }
   ],
   "source": [
    "data.var()"
   ]
  },
  {
   "cell_type": "code",
   "execution_count": null,
   "id": "b2319839",
   "metadata": {},
   "outputs": [],
   "source": []
  }
 ],
 "metadata": {
  "kernelspec": {
   "display_name": "Python 3 (ipykernel)",
   "language": "python",
   "name": "python3"
  },
  "language_info": {
   "codemirror_mode": {
    "name": "ipython",
    "version": 3
   },
   "file_extension": ".py",
   "mimetype": "text/x-python",
   "name": "python",
   "nbconvert_exporter": "python",
   "pygments_lexer": "ipython3",
   "version": "3.9.12"
  }
 },
 "nbformat": 4,
 "nbformat_minor": 5
}
